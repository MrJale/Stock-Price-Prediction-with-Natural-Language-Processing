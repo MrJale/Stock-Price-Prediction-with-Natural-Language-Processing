{
 "cells": [
  {
   "cell_type": "code",
   "execution_count": 1,
   "metadata": {},
   "outputs": [
    {
     "data": {
      "text/html": [
       "<div>\n",
       "<style scoped>\n",
       "    .dataframe tbody tr th:only-of-type {\n",
       "        vertical-align: middle;\n",
       "    }\n",
       "\n",
       "    .dataframe tbody tr th {\n",
       "        vertical-align: top;\n",
       "    }\n",
       "\n",
       "    .dataframe thead th {\n",
       "        text-align: right;\n",
       "    }\n",
       "</style>\n",
       "<table border=\"1\" class=\"dataframe\">\n",
       "  <thead>\n",
       "    <tr style=\"text-align: right;\">\n",
       "      <th></th>\n",
       "      <th>ticker</th>\n",
       "      <th>head</th>\n",
       "      <th>description</th>\n",
       "      <th>txt</th>\n",
       "      <th>datadate</th>\n",
       "      <th>ret</th>\n",
       "    </tr>\n",
       "  </thead>\n",
       "  <tbody>\n",
       "    <tr>\n",
       "      <td>0</td>\n",
       "      <td>XXII</td>\n",
       "      <td>BRIEF-22nd Century ?CEO Henry Sicignano To Dis...</td>\n",
       "      <td>* 22ND CENTURY - CO'S CEO HENRY SICIGNANO III ...</td>\n",
       "      <td>March 19 (Reuters) - 22Nd Century Group Inc: *...</td>\n",
       "      <td>20180319</td>\n",
       "      <td>0.014204</td>\n",
       "    </tr>\n",
       "    <tr>\n",
       "      <td>1</td>\n",
       "      <td>XXII</td>\n",
       "      <td>BRIEF-22ND CENTURY GROUP TO DISCONTINUE U.S. S...</td>\n",
       "      <td>* 22ND CENTURY GROUP INC - WILL DISCONTINUE U....</td>\n",
       "      <td>Nov 22 (Reuters) - 22nd Century Group Inc: * 2...</td>\n",
       "      <td>20171122</td>\n",
       "      <td>0.017992</td>\n",
       "    </tr>\n",
       "    <tr>\n",
       "      <td>2</td>\n",
       "      <td>XXII</td>\n",
       "      <td>BRIEF-22nd century receives guidance from FDA ...</td>\n",
       "      <td>* 22Nd century receives guidance from FDA on p...</td>\n",
       "      <td>June 22 (Reuters) - 22nd Century Group Inc : *...</td>\n",
       "      <td>20170622</td>\n",
       "      <td>0.022555</td>\n",
       "    </tr>\n",
       "    <tr>\n",
       "      <td>3</td>\n",
       "      <td>XXII</td>\n",
       "      <td>BRIEF-22nd Century entered into warrant exerci...</td>\n",
       "      <td>* 22nd Century - entered into warrant exercise...</td>\n",
       "      <td>June 19 (Reuters) - 22nd Century Group Inc: * ...</td>\n",
       "      <td>20170619</td>\n",
       "      <td>-0.024741</td>\n",
       "    </tr>\n",
       "    <tr>\n",
       "      <td>4</td>\n",
       "      <td>XXII</td>\n",
       "      <td>BRIEF-22nd Century, Dent Neurosciences Researc...</td>\n",
       "      <td>* 22nd century and Dent Neurosciences Research...</td>\n",
       "      <td>June 8 (Reuters) - 22nd Century Group Inc: * 2...</td>\n",
       "      <td>20170608</td>\n",
       "      <td>-0.000267</td>\n",
       "    </tr>\n",
       "  </tbody>\n",
       "</table>\n",
       "</div>"
      ],
      "text/plain": [
       "  ticker                                               head  \\\n",
       "0   XXII  BRIEF-22nd Century ?CEO Henry Sicignano To Dis...   \n",
       "1   XXII  BRIEF-22ND CENTURY GROUP TO DISCONTINUE U.S. S...   \n",
       "2   XXII  BRIEF-22nd century receives guidance from FDA ...   \n",
       "3   XXII  BRIEF-22nd Century entered into warrant exerci...   \n",
       "4   XXII  BRIEF-22nd Century, Dent Neurosciences Researc...   \n",
       "\n",
       "                                         description  \\\n",
       "0  * 22ND CENTURY - CO'S CEO HENRY SICIGNANO III ...   \n",
       "1  * 22ND CENTURY GROUP INC - WILL DISCONTINUE U....   \n",
       "2  * 22Nd century receives guidance from FDA on p...   \n",
       "3  * 22nd Century - entered into warrant exercise...   \n",
       "4  * 22nd century and Dent Neurosciences Research...   \n",
       "\n",
       "                                                 txt  datadate       ret  \n",
       "0  March 19 (Reuters) - 22Nd Century Group Inc: *...  20180319  0.014204  \n",
       "1  Nov 22 (Reuters) - 22nd Century Group Inc: * 2...  20171122  0.017992  \n",
       "2  June 22 (Reuters) - 22nd Century Group Inc : *...  20170622  0.022555  \n",
       "3  June 19 (Reuters) - 22nd Century Group Inc: * ...  20170619 -0.024741  \n",
       "4  June 8 (Reuters) - 22nd Century Group Inc: * 2...  20170608 -0.000267  "
      ]
     },
     "execution_count": 1,
     "metadata": {},
     "output_type": "execute_result"
    }
   ],
   "source": [
    "#read news-excess return csv file\n",
    "import pandas as pd\n",
    "import time\n",
    "\n",
    "txt_data = pd.read_csv('final_txt_excessret.csv',index_col = 0)\n",
    "# txt_data = pd.read_csv('final_txt_excessret_1.csv',index_col = 0)\n",
    "txt_data = txt_data.fillna('')\n",
    "txt_data.loc[txt_data['description']=='Seeking Alpha','description'] = ''\n",
    "#if news doesn't have body part, use head instead\n",
    "txt_data.loc[txt_data.txt=='','txt'] = txt_data.loc[txt_data.txt==''].apply(\n",
    "    lambda X: X['head']+X.description+X.txt,axis = 1)\n",
    "txt_data.head()#'txt' column is what I'm going to use"
   ]
  },
  {
   "cell_type": "code",
   "execution_count": 2,
   "metadata": {},
   "outputs": [],
   "source": [
    "txt_data_n = pd.read_csv('final_txt_excessret.csv',index_col = 0)"
   ]
  },
  {
   "cell_type": "code",
   "execution_count": 3,
   "metadata": {
    "scrolled": true
   },
   "outputs": [],
   "source": [
    "txt_data_n.columns = ['ticker','head','description','txt','datadate','ret_1']"
   ]
  },
  {
   "cell_type": "markdown",
   "metadata": {},
   "source": [
    "# 1. Cleaning and tokenizing part"
   ]
  },
  {
   "cell_type": "code",
   "execution_count": 4,
   "metadata": {},
   "outputs": [
    {
     "name": "stderr",
     "output_type": "stream",
     "text": [
      "[nltk_data] Downloading package stopwords to\n",
      "[nltk_data]     C:\\Users\\guoji\\AppData\\Roaming\\nltk_data...\n",
      "[nltk_data]   Package stopwords is already up-to-date!\n",
      "[nltk_data] Downloading package wordnet to\n",
      "[nltk_data]     C:\\Users\\guoji\\AppData\\Roaming\\nltk_data...\n",
      "[nltk_data]   Package wordnet is already up-to-date!\n"
     ]
    }
   ],
   "source": [
    "import numpy as np\n",
    "\n",
    "# for nice number printing\n",
    "np.set_printoptions(precision=3, suppress=True)\n",
    "\n",
    "# tokenize and clean the text\n",
    "import nltk\n",
    "from nltk.stem import WordNetLemmatizer, SnowballStemmer\n",
    "from collections import Counter\n",
    "from nltk.corpus import stopwords\n",
    "from nltk import word_tokenize\n",
    "from nltk.tokenize import RegexpTokenizer\n",
    "# tokenize anything that is not a number and not a symbol\n",
    "word_tokenizer = RegexpTokenizer(r'[^\\d\\W]+')\n",
    "\n",
    "\n",
    "sno = SnowballStemmer('english')\n",
    "wnl = WordNetLemmatizer()\n",
    "nltk.download('stopwords')\n",
    "nltk.download('wordnet')\n",
    "# get our list of stop_words\n",
    "stop_words = set(stopwords.words('english')) \n",
    "# add some extra stopwords\n",
    "stop_words |= {\"may\", \"business\", \"company\", \"could\", \"service\", \"result\", \"product\", \n",
    "               \"operation\", \"include\", \"law\", \"tax\", \"change\", \"financial\", \"require\",\n",
    "               \"cost\", \"market\", \"also\", \"user\", \"plan\", \"actual\", \"cash\", \"other\",\n",
    "               \"thereto\", \"thereof\", \"therefore\"}\n",
    "# convert text into bag-of-words\n",
    "def clean_text(txt):\n",
    "    lemm_txt = [ wnl.lemmatize(wnl.lemmatize(w.lower(),'n'),'v') \\\n",
    "                for w in word_tokenizer.tokenize(txt) if \\\n",
    "                w.isalpha() and w not in stop_words ]\n",
    "    return [ sno.stem(w) for w in lemm_txt if w not in stop_words and len(w) > 2 ]"
   ]
  },
  {
   "cell_type": "code",
   "execution_count": 5,
   "metadata": {},
   "outputs": [
    {
     "data": {
      "text/plain": [
       "0    [reuter, chief, execut, lockhe, martin, corp, ...\n",
       "1             [world, weekend, updat, anoth, mix, bag]\n",
       "2    [hors, dead, whip, win, help, time, dismount, ...\n",
       "3                             [germani, economi, take]\n",
       "4    [dubai, reuter, iran, say, sunday, negoti, pay...\n",
       "Name: clean_txt, dtype: object"
      ]
     },
     "execution_count": 5,
     "metadata": {},
     "output_type": "execute_result"
    }
   ],
   "source": [
    "txt_data['clean_txt'] = txt_data['txt'].apply(str).apply(clean_text)\n",
    "txt_data = txt_data.sort_values('datadate').reset_index(drop = True)\n",
    "txt_data['clean_txt'].head()"
   ]
  },
  {
   "cell_type": "markdown",
   "metadata": {},
   "source": [
    "# 2. Choosing Sentimental-charged words"
   ]
  },
  {
   "cell_type": "code",
   "execution_count": 6,
   "metadata": {},
   "outputs": [],
   "source": [
    "# '''total word set'''\n",
    "# '''will cost 8 hours, don't run this cell!!'''\n",
    "# words_set = set([k for x in txt_data['clean_txt'].tolist() for k in x])\n",
    "\n",
    "# word_arr = np.array(list(words_set),dtype = 'str')\n",
    "\n",
    "# word_list = txt_data['clean_txt'].values.tolist()\n",
    "\n",
    "# word_sig = pd.DataFrame(columns = ['word','total_times','proportion','aver_ret'])\n",
    "# start = time.time()\n",
    "# for k in range(len(word_arr)):\n",
    "#     tmp = txt_data.loc[txt_data['clean_txt'].apply(lambda x: word_arr[k] in x),'ret']\n",
    "#     word_sig = word_sig.append({'word':word_arr[k],\n",
    "#                                 'total_times':len(tmp),\n",
    "#                                 'proportion':len(tmp[tmp>0])/len(tmp),\n",
    "#                                 'aver_ret':tmp.mean()},\n",
    "#                                ignore_index = True)\n",
    "# word_sig.to_csv('word_sig.csv')"
   ]
  },
  {
   "cell_type": "code",
   "execution_count": 7,
   "metadata": {},
   "outputs": [],
   "source": [
    "#setting threshold for word subsets selection\n",
    "word_sig = pd.read_csv('word_sig.csv',index_col = 0)\n",
    "times = 400\n",
    "posi_proportion = 0.54\n",
    "nega_proportion = 0.46\n",
    "\n",
    "posi_words = word_sig.loc[(word_sig.total_times>times)\n",
    "                          &(word_sig.proportion>posi_proportion),'word'].values.tolist()\n",
    "nega_words = word_sig.loc[(word_sig.total_times>times)\n",
    "                          &(word_sig.proportion<nega_proportion),'word'].values.tolist()\n",
    "total_s = posi_words+nega_words"
   ]
  },
  {
   "cell_type": "code",
   "execution_count": 8,
   "metadata": {},
   "outputs": [],
   "source": [
    "posi_dict = word_sig.loc[(word_sig.total_times>times)\n",
    "                          &(word_sig.proportion>posi_proportion),['word','total_times']].set_index('word').to_dict().get('total_times')\n",
    "nega_dict = word_sig.loc[(word_sig.total_times>times)\n",
    "                          &(word_sig.proportion<nega_proportion),['word','total_times']].set_index('word').to_dict().get('total_times')"
   ]
  },
  {
   "cell_type": "code",
   "execution_count": 9,
   "metadata": {},
   "outputs": [],
   "source": [
    "from wordcloud import WordCloud\n",
    "import matplotlib.pyplot as plt\n",
    "posi_cloud = WordCloud(background_color=\"white\",width = 1400,height = 800,prefer_horizontal=1).generate_from_frequencies(posi_dict)\n",
    "nega_cloud = WordCloud(background_color=\"white\",width = 1400,height = 800,prefer_horizontal=0.9).generate_from_frequencies(nega_dict)"
   ]
  },
  {
   "cell_type": "code",
   "execution_count": 10,
   "metadata": {},
   "outputs": [
    {
     "data": {
      "image/png": "[encoded data removed]",
      "text/plain": [
       "<Figure size 720x360 with 1 Axes>"
      ]
     },
     "metadata": {
      "needs_background": "light"
     },
     "output_type": "display_data"
    }
   ],
   "source": [
    "plt.figure(figsize=(10,5))\n",
    "plt.imshow(posi_cloud)\n",
    "# plt.imshow(nega_cloud)\n",
    "plt.rcParams['savefig.dpi'] = 300\n",
    "plt.rcParams['figure.dpi'] = 800 \n",
    "plt.axis(\"off\")\n",
    "# plt.savefig('nega_cloud.jpg',dpi = 800)\n",
    "plt.savefig('posi_cloud.jpg',dpi = 800)\n",
    "plt.show()"
   ]
  },
  {
   "cell_type": "markdown",
   "metadata": {},
   "source": [
    "# 3. Model construction"
   ]
  },
  {
   "cell_type": "code",
   "execution_count": 11,
   "metadata": {},
   "outputs": [],
   "source": [
    "def build_submatrix(X, word_list):\n",
    "    tmp_dic = {i:0 for i in word_list}\n",
    "    for x in X:\n",
    "        if x in tmp_dic.keys():\n",
    "            tmp_dic[x] += 1\n",
    "    return np.array(list(tmp_dic.values()))"
   ]
  },
  {
   "cell_type": "code",
   "execution_count": 12,
   "metadata": {},
   "outputs": [
    {
     "data": {
      "text/plain": [
       "140393    [0, 0, 0, 0, 0, 0, 0, 0, 0, 0, 0, 0, 0, 0, 0, ...\n",
       "140394    [0, 0, 0, 0, 0, 0, 0, 0, 0, 0, 0, 0, 0, 0, 0, ...\n",
       "140395    [0, 0, 0, 0, 0, 0, 0, 0, 0, 0, 0, 0, 0, 0, 0, ...\n",
       "140396    [0, 0, 0, 0, 0, 0, 0, 0, 0, 0, 0, 0, 0, 0, 0, ...\n",
       "140397    [0, 0, 0, 0, 0, 0, 0, 0, 0, 0, 0, 0, 0, 0, 0, ...\n",
       "Name: head_mat, dtype: object"
      ]
     },
     "execution_count": 12,
     "metadata": {},
     "output_type": "execute_result"
    }
   ],
   "source": [
    "#build news submatrix\n",
    "txt_data['head_mat'] = txt_data.clean_txt.apply(build_submatrix, \n",
    "                                                args = (total_s, )).apply(np.reshape, args = (322,))\n",
    "txt_data['head_mat'].tail()"
   ]
  },
  {
   "cell_type": "code",
   "execution_count": 13,
   "metadata": {},
   "outputs": [],
   "source": [
    "#Filtering all of news, keep news which contains at least 2 sentimental-charged words\n",
    "useful_txt = txt_data[txt_data.head_mat.apply(sum)>1].copy().reset_index(drop = True)"
   ]
  },
  {
   "cell_type": "code",
   "execution_count": 14,
   "metadata": {},
   "outputs": [],
   "source": [
    "#Setting training set\n",
    "train_txt = useful_txt.iloc[:20000].copy()\n",
    "#Counting sentiment score\n",
    "train_txt['ret_rank'] = train_txt.ret.rank(pct = True)\n",
    "#Generating return-rank of return DataFrame for next step\n",
    "return_df = train_txt[['ret','ret_rank']].copy().sort_values('ret').reset_index(drop = True)"
   ]
  },
  {
   "cell_type": "code",
   "execution_count": 15,
   "metadata": {},
   "outputs": [],
   "source": [
    "W = np.mat(np.vstack([train_txt.ret.rank(pct = True).values,\n",
    "                      1-train_txt.ret.rank(pct = True).values]),\n",
    "           dtype='float64')"
   ]
  },
  {
   "cell_type": "code",
   "execution_count": 16,
   "metadata": {},
   "outputs": [],
   "source": [
    "train_txt.head_mat = train_txt.head_mat/train_txt.head_mat.apply(sum)\n",
    "tmp_arr = train_txt.head_mat[0]\n",
    "for i in range(1,len(train_txt)):\n",
    "    tmp_arr = np.vstack([tmp_arr,train_txt.head_mat[i]])"
   ]
  },
  {
   "cell_type": "code",
   "execution_count": 17,
   "metadata": {},
   "outputs": [],
   "source": [
    "D = np.mat(tmp_arr).T"
   ]
  },
  {
   "cell_type": "markdown",
   "metadata": {},
   "source": [
    "## Calculating Matrix O by following OLS formula\n",
    "$O=D\\cdot W^\\prime\\cdot (W\\cdot W^\\prime)^{-1}$"
   ]
  },
  {
   "cell_type": "code",
   "execution_count": 18,
   "metadata": {},
   "outputs": [],
   "source": [
    "#calculating O\n",
    "O_df = pd.DataFrame(D*W.T*(W*W.T).I,columns = ['o+','o-'],index = total_s)\n",
    "O_df.loc[O_df['o+']<0,'o+'] = 0\n",
    "O_df.loc[O_df['o-']<0,'o-'] = 0\n",
    "O_df = O_df.apply(lambda x: x/x.sum(),axis = 0)"
   ]
  },
  {
   "cell_type": "code",
   "execution_count": 20,
   "metadata": {},
   "outputs": [
    {
     "data": {
      "text/html": [
       "<div>\n",
       "<style scoped>\n",
       "    .dataframe tbody tr th:only-of-type {\n",
       "        vertical-align: middle;\n",
       "    }\n",
       "\n",
       "    .dataframe tbody tr th {\n",
       "        vertical-align: top;\n",
       "    }\n",
       "\n",
       "    .dataframe thead th {\n",
       "        text-align: right;\n",
       "    }\n",
       "</style>\n",
       "<table border=\"1\" class=\"dataframe\">\n",
       "  <thead>\n",
       "    <tr style=\"text-align: right;\">\n",
       "      <th></th>\n",
       "      <th>o+</th>\n",
       "      <th>o-</th>\n",
       "    </tr>\n",
       "  </thead>\n",
       "  <tbody>\n",
       "    <tr>\n",
       "      <td>repurchas</td>\n",
       "      <td>0.029047</td>\n",
       "      <td>0.009089</td>\n",
       "    </tr>\n",
       "    <tr>\n",
       "      <td>upfront</td>\n",
       "      <td>0.004270</td>\n",
       "      <td>0.000691</td>\n",
       "    </tr>\n",
       "    <tr>\n",
       "      <td>cell</td>\n",
       "      <td>0.008193</td>\n",
       "      <td>0.004599</td>\n",
       "    </tr>\n",
       "    <tr>\n",
       "      <td>mileston</td>\n",
       "      <td>0.007706</td>\n",
       "      <td>0.003204</td>\n",
       "    </tr>\n",
       "    <tr>\n",
       "      <td>therapi</td>\n",
       "      <td>0.008465</td>\n",
       "      <td>0.004727</td>\n",
       "    </tr>\n",
       "  </tbody>\n",
       "</table>\n",
       "</div>"
      ],
      "text/plain": [
       "                 o+        o-\n",
       "repurchas  0.029047  0.009089\n",
       "upfront    0.004270  0.000691\n",
       "cell       0.008193  0.004599\n",
       "mileston   0.007706  0.003204\n",
       "therapi    0.008465  0.004727"
      ]
     },
     "execution_count": 20,
     "metadata": {},
     "output_type": "execute_result"
    }
   ],
   "source": [
    "O_df.head()"
   ]
  },
  {
   "cell_type": "code",
   "execution_count": 21,
   "metadata": {},
   "outputs": [],
   "source": [
    "def likelihood_func(p,arr_sam,O_df,penalty):\n",
    "    return np.sum(np.log((O_df['o+'].values*p+O_df['o-'].values*(1-p))**arr_sam))+penalty*np.log(p*(1-p))\n",
    "def count_prediction(sample_arr, O_df, return_df, penalty):\n",
    "    index_max = return_df['ret_rank'].apply(likelihood_func,args = (sample_arr, O_df, penalty, )).values.argmax()\n",
    "    return return_df.loc[index_max].values"
   ]
  },
  {
   "cell_type": "markdown",
   "metadata": {},
   "source": [
    "## Testing results"
   ]
  },
  {
   "cell_type": "code",
   "execution_count": null,
   "metadata": {},
   "outputs": [],
   "source": [
    "#Setting testing sample\n",
    "test_txt = useful_txt.iloc[20000:50000].copy()\n",
    "test_txt['prediction']= test_txt.head_mat.apply(count_prediction,args = (O_df, return_df, 10))"
   ]
  },
  {
   "cell_type": "code",
   "execution_count": null,
   "metadata": {},
   "outputs": [],
   "source": [
    "test_txt.to_csv('NLP_result.csv')"
   ]
  },
  {
   "cell_type": "code",
   "execution_count": 21,
   "metadata": {},
   "outputs": [],
   "source": [
    "test_txt_n = pd.merge(test_txt,txt_data_n[['txt','ret_1']],on = 'txt', how = 'inner')"
   ]
  },
  {
   "cell_type": "code",
   "execution_count": 22,
   "metadata": {},
   "outputs": [
    {
     "data": {
      "text/plain": [
       "array([[1.   , 0.003],\n",
       "       [0.003, 1.   ]])"
      ]
     },
     "execution_count": 22,
     "metadata": {},
     "output_type": "execute_result"
    }
   ],
   "source": [
    "np.corrcoef(test_txt_n.ret_1.values,test_txt_n.prediction.apply(lambda x: x[0]).values)"
   ]
  },
  {
   "cell_type": "code",
   "execution_count": 23,
   "metadata": {},
   "outputs": [
    {
     "data": {
      "text/plain": [
       "array([[1.   , 0.043],\n",
       "       [0.043, 1.   ]])"
      ]
     },
     "execution_count": 23,
     "metadata": {},
     "output_type": "execute_result"
    }
   ],
   "source": [
    "np.corrcoef(test_txt_n.ret.values,test_txt_n.prediction.apply(lambda x: x[0]).values)"
   ]
  },
  {
   "cell_type": "code",
   "execution_count": null,
   "metadata": {},
   "outputs": [],
   "source": []
  },
  {
   "cell_type": "code",
   "execution_count": 24,
   "metadata": {},
   "outputs": [
    {
     "data": {
      "text/html": [
       "<div>\n",
       "<style>\n",
       "    .dataframe thead tr:only-child th {\n",
       "        text-align: right;\n",
       "    }\n",
       "\n",
       "    .dataframe thead th {\n",
       "        text-align: left;\n",
       "    }\n",
       "\n",
       "    .dataframe tbody tr th {\n",
       "        vertical-align: top;\n",
       "    }\n",
       "</style>\n",
       "<table border=\"1\" class=\"dataframe\">\n",
       "  <thead>\n",
       "    <tr style=\"text-align: right;\">\n",
       "      <th></th>\n",
       "      <th>date</th>\n",
       "      <th>factor</th>\n",
       "      <th>ret_1</th>\n",
       "      <th>ret_2</th>\n",
       "    </tr>\n",
       "  </thead>\n",
       "  <tbody>\n",
       "    <tr>\n",
       "      <th>0</th>\n",
       "      <td>2017-10-19</td>\n",
       "      <td>0.486900</td>\n",
       "      <td>-0.015131</td>\n",
       "      <td>-0.004120</td>\n",
       "    </tr>\n",
       "    <tr>\n",
       "      <th>1</th>\n",
       "      <td>2017-10-19</td>\n",
       "      <td>0.434475</td>\n",
       "      <td>0.023899</td>\n",
       "      <td>-0.003990</td>\n",
       "    </tr>\n",
       "    <tr>\n",
       "      <th>2</th>\n",
       "      <td>2017-10-19</td>\n",
       "      <td>0.494250</td>\n",
       "      <td>-0.010347</td>\n",
       "      <td>0.001264</td>\n",
       "    </tr>\n",
       "    <tr>\n",
       "      <th>3</th>\n",
       "      <td>2017-10-19</td>\n",
       "      <td>0.485000</td>\n",
       "      <td>-0.023988</td>\n",
       "      <td>-0.003386</td>\n",
       "    </tr>\n",
       "    <tr>\n",
       "      <th>4</th>\n",
       "      <td>2017-10-19</td>\n",
       "      <td>0.453425</td>\n",
       "      <td>-0.003386</td>\n",
       "      <td>0.003460</td>\n",
       "    </tr>\n",
       "  </tbody>\n",
       "</table>\n",
       "</div>"
      ],
      "text/plain": [
       "        date    factor     ret_1     ret_2\n",
       "0 2017-10-19  0.486900 -0.015131 -0.004120\n",
       "1 2017-10-19  0.434475  0.023899 -0.003990\n",
       "2 2017-10-19  0.494250 -0.010347  0.001264\n",
       "3 2017-10-19  0.485000 -0.023988 -0.003386\n",
       "4 2017-10-19  0.453425 -0.003386  0.003460"
      ]
     },
     "execution_count": 24,
     "metadata": {},
     "output_type": "execute_result"
    }
   ],
   "source": [
    "new_res =pd.DataFrame({'factor':test_txt_n.prediction.apply(lambda x: x[1]).values, \n",
    "                       'date':pd.to_datetime(test_txt_n['datadate'],format = '%Y%m%d'),\n",
    "                       'ret_1':test_txt_n.ret.values,\n",
    "                      'ret_2':test_txt_n.ret_1.values})\n",
    "new_res.head()"
   ]
  },
  {
   "cell_type": "code",
   "execution_count": 25,
   "metadata": {},
   "outputs": [
    {
     "data": {
      "text/html": [
       "<div>\n",
       "<style>\n",
       "    .dataframe thead tr:only-child th {\n",
       "        text-align: right;\n",
       "    }\n",
       "\n",
       "    .dataframe thead th {\n",
       "        text-align: left;\n",
       "    }\n",
       "\n",
       "    .dataframe tbody tr th {\n",
       "        vertical-align: top;\n",
       "    }\n",
       "</style>\n",
       "<table border=\"1\" class=\"dataframe\">\n",
       "  <thead>\n",
       "    <tr style=\"text-align: right;\">\n",
       "      <th></th>\n",
       "      <th>t+1</th>\n",
       "      <th>t+2</th>\n",
       "    </tr>\n",
       "    <tr>\n",
       "      <th>date</th>\n",
       "      <th></th>\n",
       "      <th></th>\n",
       "    </tr>\n",
       "  </thead>\n",
       "  <tbody>\n",
       "    <tr>\n",
       "      <th>2017-10-19</th>\n",
       "      <td>0.065771</td>\n",
       "      <td>0.017836</td>\n",
       "    </tr>\n",
       "    <tr>\n",
       "      <th>2017-10-20</th>\n",
       "      <td>-0.024721</td>\n",
       "      <td>-0.005514</td>\n",
       "    </tr>\n",
       "    <tr>\n",
       "      <th>2017-10-23</th>\n",
       "      <td>0.008669</td>\n",
       "      <td>0.002561</td>\n",
       "    </tr>\n",
       "    <tr>\n",
       "      <th>2017-10-24</th>\n",
       "      <td>0.014815</td>\n",
       "      <td>0.001469</td>\n",
       "    </tr>\n",
       "    <tr>\n",
       "      <th>2017-10-25</th>\n",
       "      <td>0.002293</td>\n",
       "      <td>-0.002288</td>\n",
       "    </tr>\n",
       "  </tbody>\n",
       "</table>\n",
       "</div>"
      ],
      "text/plain": [
       "                 t+1       t+2\n",
       "date                          \n",
       "2017-10-19  0.065771  0.017836\n",
       "2017-10-20 -0.024721 -0.005514\n",
       "2017-10-23  0.008669  0.002561\n",
       "2017-10-24  0.014815  0.001469\n",
       "2017-10-25  0.002293 -0.002288"
      ]
     },
     "execution_count": 25,
     "metadata": {},
     "output_type": "execute_result"
    }
   ],
   "source": [
    "pnl = pd.DataFrame({\n",
    "#     'Mean': new_res.groupby('date').apply(lambda X: X['ret'].mean() if (len(X)>10) else 0),\n",
    "                    't+1':new_res.groupby('date').apply(lambda X: X['ret_1'][X['factor']>0.5].mean()-X['ret_1'][X['factor']<0.5].mean()\n",
    "                                                             if (len(X)>10) else 0),\n",
    "                    't+2':new_res.groupby('date').apply(lambda X: X['ret_2'][X['factor']>0.5].mean()-X['ret_2'][X['factor']<0.5].mean()\n",
    "                                                             if (len(X)>10) else 0)})\n",
    "pnl.head()"
   ]
  },
  {
   "cell_type": "code",
   "execution_count": 46,
   "metadata": {},
   "outputs": [
    {
     "data": {
      "text/plain": [
       "<matplotlib.axes._subplots.AxesSubplot at 0x18893449b70>"
      ]
     },
     "execution_count": 46,
     "metadata": {},
     "output_type": "execute_result"
    },
    {
     "data": {
      "image/png": "[encoded data removed]",
      "text/plain": [
       "<Figure size 1080x720 with 1 Axes>"
      ]
     },
     "metadata": {
      "needs_background": "light"
     },
     "output_type": "display_data"
    }
   ],
   "source": [
    "%matplotlib inline\n",
    "pnl.cumsum().plot(figsize = (15,10),color = ['b','r'])"
   ]
  },
  {
   "cell_type": "code",
   "execution_count": 61,
   "metadata": {},
   "outputs": [
    {
     "data": {
      "image/png": "[encoded data removed]",
      "text/plain": [
       "<Figure size 1080x576 with 1 Axes>"
      ]
     },
     "metadata": {
      "needs_background": "light"
     },
     "output_type": "display_data"
    }
   ],
   "source": [
    "import matplotlib.pyplot as plt\n",
    "plt.figure(figsize = (15,8))\n",
    "plt.plot(pnl.iloc[:,0].cumsum(),color = 'c')\n",
    "plt.plot(pnl.iloc[:,1].cumsum(),color = 'k')\n",
    "plt.legend(['t+1','t+2'],fontsize='large')\n",
    "plt.xlabel(\"Month\", fontsize=16)\n",
    "plt.ylabel(\"Return Rate\", fontsize=16)\n",
    "plt.title(\"Cumulative Excess Returns of long-short strategy\", fontsize=20)\n",
    "plt.savefig('long_short_comparasion.png',dpi = 300)\n",
    "plt.show()"
   ]
  },
  {
   "cell_type": "code",
   "execution_count": 52,
   "metadata": {},
   "outputs": [
    {
     "data": {
      "text/html": [
       "<div>\n",
       "<style>\n",
       "    .dataframe thead tr:only-child th {\n",
       "        text-align: right;\n",
       "    }\n",
       "\n",
       "    .dataframe thead th {\n",
       "        text-align: left;\n",
       "    }\n",
       "\n",
       "    .dataframe tbody tr th {\n",
       "        vertical-align: top;\n",
       "    }\n",
       "</style>\n",
       "<table border=\"1\" class=\"dataframe\">\n",
       "  <thead>\n",
       "    <tr style=\"text-align: right;\">\n",
       "      <th></th>\n",
       "      <th>negative_short</th>\n",
       "      <th>positive_long</th>\n",
       "    </tr>\n",
       "    <tr>\n",
       "      <th>date</th>\n",
       "      <th></th>\n",
       "      <th></th>\n",
       "    </tr>\n",
       "  </thead>\n",
       "  <tbody>\n",
       "    <tr>\n",
       "      <th>2017-10-19</th>\n",
       "      <td>0.010831</td>\n",
       "      <td>0.054940</td>\n",
       "    </tr>\n",
       "    <tr>\n",
       "      <th>2017-10-20</th>\n",
       "      <td>0.010469</td>\n",
       "      <td>-0.035190</td>\n",
       "    </tr>\n",
       "    <tr>\n",
       "      <th>2017-10-23</th>\n",
       "      <td>0.016227</td>\n",
       "      <td>-0.007557</td>\n",
       "    </tr>\n",
       "    <tr>\n",
       "      <th>2017-10-24</th>\n",
       "      <td>0.009365</td>\n",
       "      <td>0.005450</td>\n",
       "    </tr>\n",
       "    <tr>\n",
       "      <th>2017-10-25</th>\n",
       "      <td>0.006659</td>\n",
       "      <td>-0.004366</td>\n",
       "    </tr>\n",
       "  </tbody>\n",
       "</table>\n",
       "</div>"
      ],
      "text/plain": [
       "            negative_short  positive_long\n",
       "date                                     \n",
       "2017-10-19        0.010831       0.054940\n",
       "2017-10-20        0.010469      -0.035190\n",
       "2017-10-23        0.016227      -0.007557\n",
       "2017-10-24        0.009365       0.005450\n",
       "2017-10-25        0.006659      -0.004366"
      ]
     },
     "execution_count": 52,
     "metadata": {},
     "output_type": "execute_result"
    }
   ],
   "source": [
    "pnl_n = pd.DataFrame({\n",
    "#     'Mean': new_res.groupby('date').apply(lambda X: X['ret'].mean() if (len(X)>10) else 0),\n",
    "                    'positive_long':new_res.groupby('date').apply(lambda X: X['ret_1'][X['factor']>0.5].mean()\n",
    "                                                             if (len(X)>15) else 0),\n",
    "                     'negative_short':new_res.groupby('date').apply(lambda X: -X['ret_1'][X['factor']<0.5].mean()\n",
    "                                                             if (len(X)>15) else 0)})\n",
    "pnl_n.head()"
   ]
  },
  {
   "cell_type": "code",
   "execution_count": 62,
   "metadata": {},
   "outputs": [
    {
     "data": {
      "image/png": "[encoded data removed]",
      "text/plain": [
       "<Figure size 1080x576 with 1 Axes>"
      ]
     },
     "metadata": {
      "needs_background": "light"
     },
     "output_type": "display_data"
    }
   ],
   "source": [
    "plt.figure(figsize = (15,8))\n",
    "plt.plot(pnl_n.iloc[:,0].cumsum(),color = 'c')\n",
    "plt.plot(pnl_n.iloc[:,1].cumsum(),color = 'k')\n",
    "plt.legend(['Short-Negative','Long-Positive'],fontsize='large')\n",
    "plt.xlabel(\"Month\", fontsize=16)\n",
    "plt.ylabel(\"Return Rate\", fontsize=16)\n",
    "plt.title(\"Comparasion of long-positive&short-negative strategy\", fontsize=20)\n",
    "plt.savefig('long_strategy.png',dpi = 300)\n",
    "plt.show()"
   ]
  },
  {
   "cell_type": "code",
   "execution_count": 99,
   "metadata": {
    "collapsed": true,
    "jupyter": {
     "outputs_hidden": true
    }
   },
   "outputs": [
    {
     "data": {
      "text/html": [
       "<div>\n",
       "<style>\n",
       "    .dataframe thead tr:only-child th {\n",
       "        text-align: right;\n",
       "    }\n",
       "\n",
       "    .dataframe thead th {\n",
       "        text-align: left;\n",
       "    }\n",
       "\n",
       "    .dataframe tbody tr th {\n",
       "        vertical-align: top;\n",
       "    }\n",
       "</style>\n",
       "<table border=\"1\" class=\"dataframe\">\n",
       "  <thead>\n",
       "    <tr style=\"text-align: right;\">\n",
       "      <th></th>\n",
       "      <th>Zerocost</th>\n",
       "    </tr>\n",
       "    <tr>\n",
       "      <th>date</th>\n",
       "      <th></th>\n",
       "    </tr>\n",
       "  </thead>\n",
       "  <tbody>\n",
       "    <tr>\n",
       "      <th>2017-10-19</th>\n",
       "      <td>0.030652</td>\n",
       "    </tr>\n",
       "    <tr>\n",
       "      <th>2017-10-20</th>\n",
       "      <td>-0.011159</td>\n",
       "    </tr>\n",
       "    <tr>\n",
       "      <th>2017-10-21</th>\n",
       "      <td>0.000000</td>\n",
       "    </tr>\n",
       "    <tr>\n",
       "      <th>2017-10-22</th>\n",
       "      <td>0.000000</td>\n",
       "    </tr>\n",
       "    <tr>\n",
       "      <th>2017-10-23</th>\n",
       "      <td>0.003471</td>\n",
       "    </tr>\n",
       "    <tr>\n",
       "      <th>2017-10-24</th>\n",
       "      <td>0.008606</td>\n",
       "    </tr>\n",
       "    <tr>\n",
       "      <th>2017-10-25</th>\n",
       "      <td>0.000890</td>\n",
       "    </tr>\n",
       "    <tr>\n",
       "      <th>2017-10-26</th>\n",
       "      <td>0.007270</td>\n",
       "    </tr>\n",
       "    <tr>\n",
       "      <th>2017-10-27</th>\n",
       "      <td>-0.000431</td>\n",
       "    </tr>\n",
       "    <tr>\n",
       "      <th>2017-10-28</th>\n",
       "      <td>0.000000</td>\n",
       "    </tr>\n",
       "    <tr>\n",
       "      <th>2017-10-29</th>\n",
       "      <td>0.000000</td>\n",
       "    </tr>\n",
       "    <tr>\n",
       "      <th>2017-10-30</th>\n",
       "      <td>0.002884</td>\n",
       "    </tr>\n",
       "    <tr>\n",
       "      <th>2017-10-31</th>\n",
       "      <td>0.011684</td>\n",
       "    </tr>\n",
       "    <tr>\n",
       "      <th>2017-11-01</th>\n",
       "      <td>0.011600</td>\n",
       "    </tr>\n",
       "    <tr>\n",
       "      <th>2017-11-02</th>\n",
       "      <td>0.007316</td>\n",
       "    </tr>\n",
       "    <tr>\n",
       "      <th>2017-11-03</th>\n",
       "      <td>0.006718</td>\n",
       "    </tr>\n",
       "    <tr>\n",
       "      <th>2017-11-04</th>\n",
       "      <td>0.027005</td>\n",
       "    </tr>\n",
       "    <tr>\n",
       "      <th>2017-11-05</th>\n",
       "      <td>0.000000</td>\n",
       "    </tr>\n",
       "    <tr>\n",
       "      <th>2017-11-06</th>\n",
       "      <td>0.010978</td>\n",
       "    </tr>\n",
       "    <tr>\n",
       "      <th>2017-11-07</th>\n",
       "      <td>0.006461</td>\n",
       "    </tr>\n",
       "    <tr>\n",
       "      <th>2017-11-08</th>\n",
       "      <td>-0.002355</td>\n",
       "    </tr>\n",
       "    <tr>\n",
       "      <th>2017-11-09</th>\n",
       "      <td>-0.001094</td>\n",
       "    </tr>\n",
       "    <tr>\n",
       "      <th>2017-11-10</th>\n",
       "      <td>0.001056</td>\n",
       "    </tr>\n",
       "    <tr>\n",
       "      <th>2017-11-11</th>\n",
       "      <td>0.000000</td>\n",
       "    </tr>\n",
       "    <tr>\n",
       "      <th>2017-11-12</th>\n",
       "      <td>0.000000</td>\n",
       "    </tr>\n",
       "    <tr>\n",
       "      <th>2017-11-13</th>\n",
       "      <td>-0.008217</td>\n",
       "    </tr>\n",
       "    <tr>\n",
       "      <th>2017-11-14</th>\n",
       "      <td>0.001855</td>\n",
       "    </tr>\n",
       "    <tr>\n",
       "      <th>2017-11-15</th>\n",
       "      <td>0.000186</td>\n",
       "    </tr>\n",
       "    <tr>\n",
       "      <th>2017-11-16</th>\n",
       "      <td>0.007422</td>\n",
       "    </tr>\n",
       "    <tr>\n",
       "      <th>2017-11-17</th>\n",
       "      <td>0.000279</td>\n",
       "    </tr>\n",
       "    <tr>\n",
       "      <th>...</th>\n",
       "      <td>...</td>\n",
       "    </tr>\n",
       "    <tr>\n",
       "      <th>2019-04-01</th>\n",
       "      <td>-0.000562</td>\n",
       "    </tr>\n",
       "    <tr>\n",
       "      <th>2019-04-02</th>\n",
       "      <td>0.003329</td>\n",
       "    </tr>\n",
       "    <tr>\n",
       "      <th>2019-04-03</th>\n",
       "      <td>0.002216</td>\n",
       "    </tr>\n",
       "    <tr>\n",
       "      <th>2019-04-04</th>\n",
       "      <td>0.006759</td>\n",
       "    </tr>\n",
       "    <tr>\n",
       "      <th>2019-04-05</th>\n",
       "      <td>-0.005084</td>\n",
       "    </tr>\n",
       "    <tr>\n",
       "      <th>2019-04-06</th>\n",
       "      <td>0.000000</td>\n",
       "    </tr>\n",
       "    <tr>\n",
       "      <th>2019-04-07</th>\n",
       "      <td>0.000000</td>\n",
       "    </tr>\n",
       "    <tr>\n",
       "      <th>2019-04-08</th>\n",
       "      <td>-0.000888</td>\n",
       "    </tr>\n",
       "    <tr>\n",
       "      <th>2019-04-09</th>\n",
       "      <td>-0.003092</td>\n",
       "    </tr>\n",
       "    <tr>\n",
       "      <th>2019-04-10</th>\n",
       "      <td>0.000808</td>\n",
       "    </tr>\n",
       "    <tr>\n",
       "      <th>2019-04-11</th>\n",
       "      <td>-0.003819</td>\n",
       "    </tr>\n",
       "    <tr>\n",
       "      <th>2019-04-12</th>\n",
       "      <td>-0.011876</td>\n",
       "    </tr>\n",
       "    <tr>\n",
       "      <th>2019-04-13</th>\n",
       "      <td>0.000000</td>\n",
       "    </tr>\n",
       "    <tr>\n",
       "      <th>2019-04-14</th>\n",
       "      <td>0.000000</td>\n",
       "    </tr>\n",
       "    <tr>\n",
       "      <th>2019-04-15</th>\n",
       "      <td>0.006933</td>\n",
       "    </tr>\n",
       "    <tr>\n",
       "      <th>2019-04-16</th>\n",
       "      <td>0.000596</td>\n",
       "    </tr>\n",
       "    <tr>\n",
       "      <th>2019-04-17</th>\n",
       "      <td>0.005911</td>\n",
       "    </tr>\n",
       "    <tr>\n",
       "      <th>2019-04-18</th>\n",
       "      <td>-0.005586</td>\n",
       "    </tr>\n",
       "    <tr>\n",
       "      <th>2019-04-19</th>\n",
       "      <td>-0.001759</td>\n",
       "    </tr>\n",
       "    <tr>\n",
       "      <th>2019-04-20</th>\n",
       "      <td>0.000000</td>\n",
       "    </tr>\n",
       "    <tr>\n",
       "      <th>2019-04-21</th>\n",
       "      <td>0.000000</td>\n",
       "    </tr>\n",
       "    <tr>\n",
       "      <th>2019-04-22</th>\n",
       "      <td>0.001218</td>\n",
       "    </tr>\n",
       "    <tr>\n",
       "      <th>2019-04-23</th>\n",
       "      <td>-0.001844</td>\n",
       "    </tr>\n",
       "    <tr>\n",
       "      <th>2019-04-24</th>\n",
       "      <td>0.003419</td>\n",
       "    </tr>\n",
       "    <tr>\n",
       "      <th>2019-04-25</th>\n",
       "      <td>0.005008</td>\n",
       "    </tr>\n",
       "    <tr>\n",
       "      <th>2019-04-26</th>\n",
       "      <td>-0.003801</td>\n",
       "    </tr>\n",
       "    <tr>\n",
       "      <th>2019-04-27</th>\n",
       "      <td>0.000000</td>\n",
       "    </tr>\n",
       "    <tr>\n",
       "      <th>2019-04-28</th>\n",
       "      <td>0.000000</td>\n",
       "    </tr>\n",
       "    <tr>\n",
       "      <th>2019-04-29</th>\n",
       "      <td>0.003710</td>\n",
       "    </tr>\n",
       "    <tr>\n",
       "      <th>2019-04-30</th>\n",
       "      <td>0.004759</td>\n",
       "    </tr>\n",
       "  </tbody>\n",
       "</table>\n",
       "<p>558 rows × 1 columns</p>\n",
       "</div>"
      ],
      "text/plain": [
       "            Zerocost\n",
       "date                \n",
       "2017-10-19  0.030652\n",
       "2017-10-20 -0.011159\n",
       "2017-10-21  0.000000\n",
       "2017-10-22  0.000000\n",
       "2017-10-23  0.003471\n",
       "2017-10-24  0.008606\n",
       "2017-10-25  0.000890\n",
       "2017-10-26  0.007270\n",
       "2017-10-27 -0.000431\n",
       "2017-10-28  0.000000\n",
       "2017-10-29  0.000000\n",
       "2017-10-30  0.002884\n",
       "2017-10-31  0.011684\n",
       "2017-11-01  0.011600\n",
       "2017-11-02  0.007316\n",
       "2017-11-03  0.006718\n",
       "2017-11-04  0.027005\n",
       "2017-11-05  0.000000\n",
       "2017-11-06  0.010978\n",
       "2017-11-07  0.006461\n",
       "2017-11-08 -0.002355\n",
       "2017-11-09 -0.001094\n",
       "2017-11-10  0.001056\n",
       "2017-11-11  0.000000\n",
       "2017-11-12  0.000000\n",
       "2017-11-13 -0.008217\n",
       "2017-11-14  0.001855\n",
       "2017-11-15  0.000186\n",
       "2017-11-16  0.007422\n",
       "2017-11-17  0.000279\n",
       "...              ...\n",
       "2019-04-01 -0.000562\n",
       "2019-04-02  0.003329\n",
       "2019-04-03  0.002216\n",
       "2019-04-04  0.006759\n",
       "2019-04-05 -0.005084\n",
       "2019-04-06  0.000000\n",
       "2019-04-07  0.000000\n",
       "2019-04-08 -0.000888\n",
       "2019-04-09 -0.003092\n",
       "2019-04-10  0.000808\n",
       "2019-04-11 -0.003819\n",
       "2019-04-12 -0.011876\n",
       "2019-04-13  0.000000\n",
       "2019-04-14  0.000000\n",
       "2019-04-15  0.006933\n",
       "2019-04-16  0.000596\n",
       "2019-04-17  0.005911\n",
       "2019-04-18 -0.005586\n",
       "2019-04-19 -0.001759\n",
       "2019-04-20  0.000000\n",
       "2019-04-21  0.000000\n",
       "2019-04-22  0.001218\n",
       "2019-04-23 -0.001844\n",
       "2019-04-24  0.003419\n",
       "2019-04-25  0.005008\n",
       "2019-04-26 -0.003801\n",
       "2019-04-27  0.000000\n",
       "2019-04-28  0.000000\n",
       "2019-04-29  0.003710\n",
       "2019-04-30  0.004759\n",
       "\n",
       "[558 rows x 1 columns]"
      ]
     },
     "execution_count": 99,
     "metadata": {},
     "output_type": "execute_result"
    }
   ],
   "source": [
    "pnl.append(pnl_n)"
   ]
  },
  {
   "cell_type": "code",
   "execution_count": null,
   "metadata": {},
   "outputs": [],
   "source": []
  }
 ],
 "metadata": {
  "kernelspec": {
   "display_name": "Python 3",
   "language": "python",
   "name": "python3"
  },
  "language_info": {
   "codemirror_mode": {
    "name": "ipython",
    "version": 3
   },
   "file_extension": ".py",
   "mimetype": "text/x-python",
   "name": "python",
   "nbconvert_exporter": "python",
   "pygments_lexer": "ipython3",
   "version": "3.7.4"
  }
 },
 "nbformat": 4,
 "nbformat_minor": 4
}
